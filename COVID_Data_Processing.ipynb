{
  "nbformat": 4,
  "nbformat_minor": 5,
  "metadata": {
    "kernelspec": {
      "display_name": "Python 3",
      "language": "python",
      "name": "python3"
    },
    "language_info": {
      "codemirror_mode": {
        "name": "ipython",
        "version": 3
      },
      "file_extension": ".py",
      "mimetype": "text/x-python",
      "name": "python",
      "nbconvert_exporter": "python",
      "pygments_lexer": "ipython3",
      "version": "3.6.9"
    },
    "colab": {
      "name": "COVID_Data_Processing.ipynb",
      "provenance": [],
      "collapsed_sections": [],
      "include_colab_link": true
    }
  },
  "cells": [
    {
      "cell_type": "markdown",
      "metadata": {
        "id": "view-in-github",
        "colab_type": "text"
      },
      "source": [
        "<a href=\"https://colab.research.google.com/github/rajeshr6r/Python_Assignments/blob/master/COVID_Data_Processing.ipynb\" target=\"_parent\"><img src=\"https://colab.research.google.com/assets/colab-badge.svg\" alt=\"Open In Colab\"/></a>"
      ]
    },
    {
      "cell_type": "code",
      "metadata": {
        "id": "da6c4f58"
      },
      "source": [
        "#Imports\n",
        "import requests\n",
        "import csv\n",
        "import datetime\n",
        "import pandas as pd\n",
        "from io import StringIO"
      ],
      "id": "da6c4f58",
      "execution_count": null,
      "outputs": []
    },
    {
      "cell_type": "markdown",
      "metadata": {
        "id": "439019a3"
      },
      "source": [
        "\"\"\"\n",
        "Designed to download Vaccination , Infection , Death and Recovery rate for COVID \n",
        "\n",
        "Vaccination Data comes from : https://github.com/owid/covid-19-data/tree/master/public/data/vaccinations \n",
        "TimeSerios for Infection,Death and Recovery comes from  : :https://github.com/CSSEGISandData/COVID-19/tree/master/csse_covid_19_data/csse_covid_19_time_series\n",
        "\n",
        "These data sets have US and Global data . So possible duplications .\n",
        "\n",
        "These data sets are downloaded somewhere around 5:30 AM EST ( safer side to download them at about 0930 EST)\n",
        "\n",
        "We create a csv file for each url with a timestamp to denote the time at which the script got executed at our end \n",
        "\n",
        "Total files after script execution should be : 8\n",
        "\n",
        "\"\"\""
      ],
      "id": "439019a3"
    },
    {
      "cell_type": "code",
      "metadata": {
        "id": "39068222"
      },
      "source": [
        "#url initialization\n",
        "vaccinations_url = \"https://raw.githubusercontent.com/owid/covid-19-data/master/public/data/vaccinations/vaccinations.csv\"\n",
        "vaccinations_by_age_group_url = \"https://raw.githubusercontent.com/owid/covid-19-data/master/public/data/vaccinations/vaccinations-by-age-group.csv\"\n",
        "vaccinations_by_manuf_url = \"https://raw.githubusercontent.com/owid/covid-19-data/master/public/data/vaccinations/vaccinations-by-manufacturer.csv\"\n",
        "covid19_timeseries_confirmed_us_url = \"https://raw.githubusercontent.com/CSSEGISandData/COVID-19/master/csse_covid_19_data/csse_covid_19_time_series/time_series_covid19_confirmed_US.csv\"\n",
        "covid19_timeseries_confirmed_global_url = \"https://raw.githubusercontent.com/CSSEGISandData/COVID-19/master/csse_covid_19_data/csse_covid_19_time_series/time_series_covid19_confirmed_global.csv\"\n",
        "covid19_time_series_covid19_deaths_US_url = \"https://raw.githubusercontent.com/CSSEGISandData/COVID-19/master/csse_covid_19_data/csse_covid_19_time_series/time_series_covid19_deaths_US.csv\"\n",
        "covid19_time_series_covid19_deaths_global_url = \"https://raw.githubusercontent.com/CSSEGISandData/COVID-19/master/csse_covid_19_data/csse_covid_19_time_series/time_series_covid19_deaths_global.csv\"\n",
        "covid19_time_series_covid19_recovered_global_url = \"https://raw.githubusercontent.com/CSSEGISandData/COVID-19/master/csse_covid_19_data/csse_covid_19_time_series/time_series_covid19_recovered_global.csv\""
      ],
      "id": "39068222",
      "execution_count": null,
      "outputs": []
    },
    {
      "cell_type": "code",
      "metadata": {
        "id": "c45b515c"
      },
      "source": [
        "#function to get data \n",
        "def process_url(url_to_be_processed,file_name_for_output):\n",
        "    try:\n",
        "        req = requests.get(url_to_be_processed)\n",
        "        url_content = req.content\n",
        "        #csv_file = open(file_name_for_output, \"wb\")\n",
        "        #csv_file.write(url_content)    \n",
        "        #csv_file.close()\n",
        "\n",
        "        result = str(url_content, 'utf-8')\n",
        "        data = StringIO(result)\n",
        "        dataframe_variable = pd.read_csv(data)\n",
        "        return dataframe_variable\n",
        "    except Exception as e:\n",
        "        print(f\"Exception occured {str(e)}\")\n",
        "        return pd.DataFrame()\n"
      ],
      "id": "c45b515c",
      "execution_count": null,
      "outputs": []
    },
    {
      "cell_type": "code",
      "metadata": {
        "id": "12d95c27"
      },
      "source": [
        "#download and save the files and also load them into a dataframe\n",
        "\n",
        "df_vacc=process_url(vaccinations_url,'vaccinations.csv')\n",
        "df_vac_by_age=process_url(vaccinations_by_age_group_url,'vaccinations_by_age_group.csv')\n",
        "df_vacc_by_manuf=process_url(vaccinations_by_manuf_url,'vaccinations_by_manufacturer.csv')\n",
        "df_timeseries_confirmed_us=process_url(covid19_timeseries_confirmed_us_url,'covid19_timeseries_confirmed_US.csv')\n",
        "df_timeseries_confirmed_global=process_url(covid19_timeseries_confirmed_global_url,'covid19_timeseries_confirmed_global.csv')\n",
        "df_timeseries_death_US=process_url(covid19_time_series_covid19_deaths_US_url,'covid19_time_series_covid19_deaths_US.csv')\n",
        "df_timeseries_death_global=process_url(covid19_time_series_covid19_deaths_global_url,'covid19_time_series_covid19_deaths_global.csv')\n",
        "df_timeseries_recovered_global=process_url(covid19_time_series_covid19_recovered_global_url,'covid19_time_series_covid19_recovered_global.csv')"
      ],
      "id": "12d95c27",
      "execution_count": null,
      "outputs": []
    },
    {
      "cell_type": "code",
      "metadata": {
        "id": "5a89d5cc"
      },
      "source": [
        "#transpose the timeseries data to get the date wise data in rows from columns\n",
        "\n",
        "df_timeseries_confirmed_global_t=df_timeseries_confirmed_global.melt(['Province/State', 'Country/Region', 'Lat', 'Long'], var_name='ReportDate')\n",
        "df_timeseries_death_global_t=df_timeseries_death_global.melt(['Province/State', 'Country/Region', 'Lat', 'Long'], var_name='ReportDate')\n",
        "df_timeseries_recovered_global_t=df_timeseries_recovered_global.melt(['Province/State', 'Country/Region', 'Lat', 'Long'], var_name='ReportDate')\n"
      ],
      "id": "5a89d5cc",
      "execution_count": null,
      "outputs": []
    },
    {
      "cell_type": "code",
      "metadata": {
        "id": "a4a79cab"
      },
      "source": [
        "#Cleanup of column names post transpose\n",
        "\n",
        "df_timeseries_confirmed_global_t=df_timeseries_confirmed_global_t.rename(columns = {'value': 'Confirmed'}, inplace = False)\n",
        "df_timeseries_death_global_t=df_timeseries_death_global_t.rename(columns = {'value': 'Deaths'}, inplace = False)\n",
        "df_timeseries_recovered_global_t=df_timeseries_recovered_global_t.rename(columns = {'value': 'Recovered'}, inplace = False)\n",
        "\n",
        "df_timeseries_confirmed_global_t['ReportDate']=pd.to_datetime(df_timeseries_confirmed_global_t['ReportDate'])\n",
        "df_timeseries_death_global_t['ReportDate']=pd.to_datetime(df_timeseries_death_global_t['ReportDate'])\n",
        "df_timeseries_recovered_global_t['ReportDate']=pd.to_datetime(df_timeseries_recovered_global_t['ReportDate'])\n"
      ],
      "id": "a4a79cab",
      "execution_count": null,
      "outputs": []
    },
    {
      "cell_type": "code",
      "metadata": {
        "id": "b33788fa"
      },
      "source": [
        "#create a merged data frame to map confirmed / recovered / death cases side by side\n",
        "\n",
        "final_df = pd.merge(df_timeseries_confirmed_global_t, df_timeseries_death_global_t,  how='left', left_on=['Province/State', 'Country/Region', 'Lat', 'Long','ReportDate'], right_on = ['Province/State', 'Country/Region', 'Lat', 'Long','ReportDate'])\n",
        "final_df = pd.merge(final_df, df_timeseries_recovered_global_t,  how='left', left_on=['Province/State', 'Country/Region', 'Lat', 'Long','ReportDate'], right_on = ['Province/State', 'Country/Region', 'Lat', 'Long','ReportDate'])\n"
      ],
      "id": "b33788fa",
      "execution_count": null,
      "outputs": []
    },
    {
      "cell_type": "code",
      "metadata": {
        "id": "e2ea2602"
      },
      "source": [
        "#sort for obtaining difference between successive days to get day wise numbers .\n",
        "#Catch is that this works well with the data being sorted against the country and date . \n",
        "#However it blindly gets the difference without taking into consideration the difference in the country name.\n",
        "#So the first record for each country is not accurate . we should simply ignore the first record as a ugly fix.\n",
        "\n",
        "final_timeseries_df=final_df.sort_values(['Country/Region', 'ReportDate'], ascending=[True, True])"
      ],
      "id": "e2ea2602",
      "execution_count": null,
      "outputs": []
    },
    {
      "cell_type": "code",
      "metadata": {
        "id": "4e3d50be"
      },
      "source": [
        "final_timeseries_output_df=pd.concat([final_timeseries_df,final_timeseries_df[['Confirmed', 'Deaths' , 'Recovered']].diff().rename({'Confirmed':'ConfirmedDiff', 'Deaths':'DeathDiff','Recovered':'RecoveredDiff'}, axis=1)], axis=1)"
      ],
      "id": "4e3d50be",
      "execution_count": null,
      "outputs": []
    },
    {
      "cell_type": "code",
      "metadata": {
        "id": "852S1KEmY5gl"
      },
      "source": [
        "#drop data for 22-01-2020 as this is not required . Refer to the previous step point number 4 for reasons. \n",
        "#Post a validation of the data on 07-Jul-2021 and finding that after deletion of this date the cumulative numbers are matching with that the derived daily numbers ( based on the difference between 2 successive days )\n",
        "final_timeseries_output_df.drop(final_timeseries_output_df[final_timeseries_output_df['ReportDate'] == '2020-01-22T00:00:00.000000000'].index, inplace = True)"
      ],
      "id": "852S1KEmY5gl",
      "execution_count": null,
      "outputs": []
    },
    {
      "cell_type": "code",
      "metadata": {
        "id": "fa32fdd7"
      },
      "source": [
        "final_timeseries_output_df.to_csv('final_timeseries_data.csv', index=False)"
      ],
      "id": "fa32fdd7",
      "execution_count": null,
      "outputs": []
    },
    {
      "cell_type": "code",
      "metadata": {
        "id": "7a23ca3d"
      },
      "source": [
        "#Vaccination Data Treatment\n",
        "#adding a dummy entry with 0 as starting counter to deal with countries that start with a number on day 1 \n",
        "for country in list(pd.unique(df_vacc['location'])):\n",
        "    df_vacc=df_vacc.append(\n",
        "        {\n",
        "            'location':country,\n",
        "            'iso_code':'',\n",
        "            'date':'2020-01-01',\n",
        "            'total_vaccinations':0,\n",
        "            'people_vaccinated':0,\n",
        "            'people_fully_vaccinated':0,\n",
        "            'daily_vaccinations_raw':0,\n",
        "            'daily_vaccinations':0,\n",
        "            'total_vaccinations_per_hundred':0,\n",
        "            'people_vaccinated_per_hundred':0,\n",
        "            'people_fully_vaccinated_per_hundred':0,\n",
        "            'daily_vaccinations_per_million':0\n",
        "        },\n",
        "        ignore_index=True\n",
        "    )\n",
        "\n"
      ],
      "id": "7a23ca3d",
      "execution_count": null,
      "outputs": []
    },
    {
      "cell_type": "code",
      "metadata": {
        "id": "4a8DNURYp0VZ"
      },
      "source": [
        "df_vacc=df_vacc.reset_index(drop=True)\n",
        "df_vacc['date']=pd.to_datetime(df_vacc['date'])\n",
        "df_vacc=df_vacc.sort_values(['location', 'date'], ascending=[True, True])"
      ],
      "id": "4a8DNURYp0VZ",
      "execution_count": null,
      "outputs": []
    },
    {
      "cell_type": "code",
      "metadata": {
        "id": "NeAz4JKtp5M0"
      },
      "source": [
        "#function to treat country wise data and generate a clean data frame for day level calculations while populating missing values based on previously available data whenever possible for the same country\n",
        "def datacleanup(inputdataframe,countryname):\n",
        "    idf=inputdataframe\n",
        "    #first filter the dataframe to only have the relevant country . because the ffill conditions doesnt work great\n",
        "    idf=idf[idf['location']==countryname]\n",
        "    idf['total_vaccinations_new']=idf['total_vaccinations']\n",
        "    idf['people_vaccinated_new']=idf['people_vaccinated']\n",
        "    idf['people_fully_vaccinated_new']=idf['people_fully_vaccinated']\n",
        "    idf['total_vaccinations_new'].fillna(method='ffill',axis=0,inplace=True)\n",
        "    idf['people_vaccinated_new'].fillna(method='ffill',axis=0,inplace=True)\n",
        "    idf['people_fully_vaccinated_new'].fillna(method='ffill',axis=0,inplace=True)\n",
        "    #an additional step to avoid 0 and na problems\n",
        "    idf['total_vaccinations_new'].fillna(0,inplace=True)\n",
        "    idf['people_vaccinated_new'].fillna(0,inplace=True)\n",
        "    idf['people_fully_vaccinated_new'].fillna(0,inplace=True)\n",
        "    \n",
        "    #logic for calculating difference between successive days \n",
        "    odf=pd.concat([idf,idf[['total_vaccinations_new', 'people_vaccinated_new' , 'people_fully_vaccinated_new']].diff().rename({'total_vaccinations_new':'total_vaccinations_diff', 'people_vaccinated_new':'people_vaccinated_diff','people_fully_vaccinated_new':'people_fully_vaccinated_diff'}, axis=1)], axis=1)\n",
        "    \n",
        "    \n",
        "    \n",
        "    return odf"
      ],
      "id": "NeAz4JKtp5M0",
      "execution_count": null,
      "outputs": []
    },
    {
      "cell_type": "code",
      "metadata": {
        "id": "BeHi9eeup8YX"
      },
      "source": [
        "#As discussed with Puja and Ashu on July 8th 2021\n",
        "countries_for_vaccination_processing=list(pd.unique(df_vacc['location']))"
      ],
      "id": "BeHi9eeup8YX",
      "execution_count": null,
      "outputs": []
    },
    {
      "cell_type": "code",
      "metadata": {
        "colab": {
          "base_uri": "https://localhost:8080/"
        },
        "id": "Zf8AdMcKqACh",
        "outputId": "3b1fdcbf-b080-45a5-c33c-a627002547a3"
      },
      "source": [
        "finaldf=pd.DataFrame()\n",
        "for country in countries_for_vaccination_processing:\n",
        "    tempdf=datacleanup(df_vacc,country)\n",
        "    finaldf=finaldf.append(tempdf)\n",
        "    \n",
        "print(\"Done\")"
      ],
      "id": "Zf8AdMcKqACh",
      "execution_count": null,
      "outputs": [
        {
          "output_type": "stream",
          "text": [
            "/usr/local/lib/python3.7/dist-packages/ipykernel_launcher.py:6: SettingWithCopyWarning: \n",
            "A value is trying to be set on a copy of a slice from a DataFrame.\n",
            "Try using .loc[row_indexer,col_indexer] = value instead\n",
            "\n",
            "See the caveats in the documentation: https://pandas.pydata.org/pandas-docs/stable/user_guide/indexing.html#returning-a-view-versus-a-copy\n",
            "  \n",
            "/usr/local/lib/python3.7/dist-packages/ipykernel_launcher.py:7: SettingWithCopyWarning: \n",
            "A value is trying to be set on a copy of a slice from a DataFrame.\n",
            "Try using .loc[row_indexer,col_indexer] = value instead\n",
            "\n",
            "See the caveats in the documentation: https://pandas.pydata.org/pandas-docs/stable/user_guide/indexing.html#returning-a-view-versus-a-copy\n",
            "  import sys\n",
            "/usr/local/lib/python3.7/dist-packages/ipykernel_launcher.py:8: SettingWithCopyWarning: \n",
            "A value is trying to be set on a copy of a slice from a DataFrame.\n",
            "Try using .loc[row_indexer,col_indexer] = value instead\n",
            "\n",
            "See the caveats in the documentation: https://pandas.pydata.org/pandas-docs/stable/user_guide/indexing.html#returning-a-view-versus-a-copy\n",
            "  \n",
            "/usr/local/lib/python3.7/dist-packages/pandas/core/series.py:4536: SettingWithCopyWarning: \n",
            "A value is trying to be set on a copy of a slice from a DataFrame\n",
            "\n",
            "See the caveats in the documentation: https://pandas.pydata.org/pandas-docs/stable/user_guide/indexing.html#returning-a-view-versus-a-copy\n",
            "  downcast=downcast,\n"
          ],
          "name": "stderr"
        },
        {
          "output_type": "stream",
          "text": [
            "Done\n"
          ],
          "name": "stdout"
        }
      ]
    },
    {
      "cell_type": "code",
      "metadata": {
        "id": "E39AyR5hqDrp"
      },
      "source": [
        "finaldf.to_csv('final_vaccinations_data.csv', index=False)"
      ],
      "id": "E39AyR5hqDrp",
      "execution_count": null,
      "outputs": []
    }
  ]
}